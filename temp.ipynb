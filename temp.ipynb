{
 "cells": [
  {
   "cell_type": "code",
   "execution_count": 1,
   "id": "ec8a5735",
   "metadata": {},
   "outputs": [],
   "source": [
    "import json\n",
    "\n",
    "# Load the configuration from the JSON file\n",
    "with open('D:/BrainAge/HCCT/config.json', 'r') as f:\n",
    "    config = json.load(f)"
   ]
  },
  {
   "cell_type": "code",
   "execution_count": 2,
   "id": "0b7aa4d9",
   "metadata": {},
   "outputs": [],
   "source": [
    "from model import ViTForClassfication\n",
    "\n",
    "# Initialize the model with the loaded configuration\n",
    "model = ViTForClassfication(config=config)"
   ]
  },
  {
   "cell_type": "code",
   "execution_count": 5,
   "id": "af60217c",
   "metadata": {},
   "outputs": [],
   "source": [
    "import torch\n",
    "extra_features= torch.randn(1,108)\n",
    "x = torch.randn(1, 1, 91, 109, 91)\n",
    "# output= model(x, extra_features)\n",
    "output = model(x, output_attentions=True, return_cam=False)"
   ]
  },
  {
   "cell_type": "code",
   "execution_count": 6,
   "id": "e734fe76",
   "metadata": {},
   "outputs": [
    {
     "data": {
      "text/plain": [
       "2"
      ]
     },
     "execution_count": 6,
     "metadata": {},
     "output_type": "execute_result"
    }
   ],
   "source": [
    "len(output)"
   ]
  },
  {
   "cell_type": "code",
   "execution_count": 15,
   "id": "5ca41c38",
   "metadata": {},
   "outputs": [],
   "source": [
    "a,b,c,d= output"
   ]
  },
  {
   "cell_type": "code",
   "execution_count": 16,
   "id": "1ed26145",
   "metadata": {},
   "outputs": [
    {
     "data": {
      "text/plain": [
       "-0.06654798239469528"
      ]
     },
     "execution_count": 16,
     "metadata": {},
     "output_type": "execute_result"
    }
   ],
   "source": [
    "# Age\n",
    "a[0].item()"
   ]
  },
  {
   "cell_type": "code",
   "execution_count": null,
   "id": "3c667b22",
   "metadata": {},
   "outputs": [
    {
     "data": {
      "text/plain": [
       "torch.Size([1, 512, 2, 3, 2])"
      ]
     },
     "execution_count": 17,
     "metadata": {},
     "output_type": "execute_result"
    }
   ],
   "source": [
    "# last layer feature map\n",
    "b.shape"
   ]
  },
  {
   "cell_type": "code",
   "execution_count": null,
   "id": "bc3031e0",
   "metadata": {},
   "outputs": [
    {
     "data": {
      "text/plain": [
       "torch.Size([1, 512, 2, 3, 2])"
      ]
     },
     "execution_count": 18,
     "metadata": {},
     "output_type": "execute_result"
    }
   ],
   "source": [
    "# last layer grad\n",
    "c.shape"
   ]
  },
  {
   "cell_type": "code",
   "execution_count": null,
   "id": "20a24e6f",
   "metadata": {},
   "outputs": [
    {
     "data": {
      "text/plain": [
       "torch.Size([1, 8, 513, 513])"
      ]
     },
     "execution_count": 22,
     "metadata": {},
     "output_type": "execute_result"
    }
   ],
   "source": [
    "# Attention probabilities\n",
    "len(d)\n",
    "d[0].shape"
   ]
  },
  {
   "cell_type": "code",
   "execution_count": null,
   "id": "d915debc",
   "metadata": {},
   "outputs": [],
   "source": []
  }
 ],
 "metadata": {
  "kernelspec": {
   "display_name": "BrainAge",
   "language": "python",
   "name": "python3"
  },
  "language_info": {
   "codemirror_mode": {
    "name": "ipython",
    "version": 3
   },
   "file_extension": ".py",
   "mimetype": "text/x-python",
   "name": "python",
   "nbconvert_exporter": "python",
   "pygments_lexer": "ipython3",
   "version": "3.10.18"
  }
 },
 "nbformat": 4,
 "nbformat_minor": 5
}
