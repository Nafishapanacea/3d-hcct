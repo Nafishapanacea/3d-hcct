{
 "cells": [
  {
   "cell_type": "code",
   "execution_count": null,
   "id": "1b70490b-53eb-4639-9462-af53ee1e9fc2",
   "metadata": {},
   "outputs": [],
   "source": []
  }
 ],
 "metadata": {
  "kernelspec": {
   "display_name": "",
   "name": ""
  },
  "language_info": {
   "name": ""
  }
 },
 "nbformat": 4,
 "nbformat_minor": 5
}
